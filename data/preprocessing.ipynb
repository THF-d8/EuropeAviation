{
 "cells": [
  {
   "cell_type": "code",
   "execution_count": 1,
   "id": "662d2079-79b2-47ef-a303-740ddbc2cc7a",
   "metadata": {},
   "outputs": [],
   "source": [
    "import pandas as pd\n",
    "import numpy as np"
   ]
  },
  {
   "cell_type": "code",
   "execution_count": 21,
   "id": "d9e1ebb7-4388-4433-a2d4-0a6b0f18ad24",
   "metadata": {},
   "outputs": [],
   "source": [
    "data = pd.read_csv(\"https://raw.githubusercontent.com/rfordatascience/tidytuesday/master/data/2022/2022-07-12/flights.csv\")"
   ]
  },
  {
   "cell_type": "code",
   "execution_count": 22,
   "id": "9839a7f4-484a-4ac7-aaec-eff1331f1192",
   "metadata": {},
   "outputs": [
    {
     "data": {
      "text/html": [
       "<div>\n",
       "<style scoped>\n",
       "    .dataframe tbody tr th:only-of-type {\n",
       "        vertical-align: middle;\n",
       "    }\n",
       "\n",
       "    .dataframe tbody tr th {\n",
       "        vertical-align: top;\n",
       "    }\n",
       "\n",
       "    .dataframe thead th {\n",
       "        text-align: right;\n",
       "    }\n",
       "</style>\n",
       "<table border=\"1\" class=\"dataframe\">\n",
       "  <thead>\n",
       "    <tr style=\"text-align: right;\">\n",
       "      <th></th>\n",
       "      <th>YEAR</th>\n",
       "      <th>MONTH_NUM</th>\n",
       "      <th>MONTH_MON</th>\n",
       "      <th>FLT_DATE</th>\n",
       "      <th>APT_ICAO</th>\n",
       "      <th>APT_NAME</th>\n",
       "      <th>STATE_NAME</th>\n",
       "      <th>FLT_DEP_1</th>\n",
       "      <th>FLT_ARR_1</th>\n",
       "      <th>FLT_TOT_1</th>\n",
       "      <th>FLT_DEP_IFR_2</th>\n",
       "      <th>FLT_ARR_IFR_2</th>\n",
       "      <th>FLT_TOT_IFR_2</th>\n",
       "      <th>Pivot Label</th>\n",
       "    </tr>\n",
       "  </thead>\n",
       "  <tbody>\n",
       "    <tr>\n",
       "      <th>0</th>\n",
       "      <td>2016</td>\n",
       "      <td>1</td>\n",
       "      <td>JAN</td>\n",
       "      <td>2016-01-01T00:00:00Z</td>\n",
       "      <td>EBAW</td>\n",
       "      <td>Antwerp</td>\n",
       "      <td>Belgium</td>\n",
       "      <td>4</td>\n",
       "      <td>3</td>\n",
       "      <td>7</td>\n",
       "      <td>NaN</td>\n",
       "      <td>NaN</td>\n",
       "      <td>NaN</td>\n",
       "      <td>Antwerp (EBAW)</td>\n",
       "    </tr>\n",
       "    <tr>\n",
       "      <th>1</th>\n",
       "      <td>2016</td>\n",
       "      <td>1</td>\n",
       "      <td>JAN</td>\n",
       "      <td>2016-01-01T00:00:00Z</td>\n",
       "      <td>EBBR</td>\n",
       "      <td>Brussels</td>\n",
       "      <td>Belgium</td>\n",
       "      <td>174</td>\n",
       "      <td>171</td>\n",
       "      <td>345</td>\n",
       "      <td>174.0</td>\n",
       "      <td>161.0</td>\n",
       "      <td>335.0</td>\n",
       "      <td>Brussels (EBBR)</td>\n",
       "    </tr>\n",
       "    <tr>\n",
       "      <th>2</th>\n",
       "      <td>2016</td>\n",
       "      <td>1</td>\n",
       "      <td>JAN</td>\n",
       "      <td>2016-01-01T00:00:00Z</td>\n",
       "      <td>EBCI</td>\n",
       "      <td>Charleroi</td>\n",
       "      <td>Belgium</td>\n",
       "      <td>45</td>\n",
       "      <td>47</td>\n",
       "      <td>92</td>\n",
       "      <td>45.0</td>\n",
       "      <td>45.0</td>\n",
       "      <td>90.0</td>\n",
       "      <td>Charleroi (EBCI)</td>\n",
       "    </tr>\n",
       "    <tr>\n",
       "      <th>3</th>\n",
       "      <td>2016</td>\n",
       "      <td>1</td>\n",
       "      <td>JAN</td>\n",
       "      <td>2016-01-01T00:00:00Z</td>\n",
       "      <td>EBLG</td>\n",
       "      <td>Liège</td>\n",
       "      <td>Belgium</td>\n",
       "      <td>6</td>\n",
       "      <td>7</td>\n",
       "      <td>13</td>\n",
       "      <td>NaN</td>\n",
       "      <td>NaN</td>\n",
       "      <td>NaN</td>\n",
       "      <td>Liège (EBLG)</td>\n",
       "    </tr>\n",
       "    <tr>\n",
       "      <th>4</th>\n",
       "      <td>2016</td>\n",
       "      <td>1</td>\n",
       "      <td>JAN</td>\n",
       "      <td>2016-01-01T00:00:00Z</td>\n",
       "      <td>EBOS</td>\n",
       "      <td>Ostend-Bruges</td>\n",
       "      <td>Belgium</td>\n",
       "      <td>7</td>\n",
       "      <td>7</td>\n",
       "      <td>14</td>\n",
       "      <td>NaN</td>\n",
       "      <td>NaN</td>\n",
       "      <td>NaN</td>\n",
       "      <td>Ostend-Bruges (EBOS)</td>\n",
       "    </tr>\n",
       "  </tbody>\n",
       "</table>\n",
       "</div>"
      ],
      "text/plain": [
       "   YEAR  MONTH_NUM MONTH_MON              FLT_DATE APT_ICAO       APT_NAME  \\\n",
       "0  2016          1       JAN  2016-01-01T00:00:00Z     EBAW        Antwerp   \n",
       "1  2016          1       JAN  2016-01-01T00:00:00Z     EBBR       Brussels   \n",
       "2  2016          1       JAN  2016-01-01T00:00:00Z     EBCI      Charleroi   \n",
       "3  2016          1       JAN  2016-01-01T00:00:00Z     EBLG          Liège   \n",
       "4  2016          1       JAN  2016-01-01T00:00:00Z     EBOS  Ostend-Bruges   \n",
       "\n",
       "  STATE_NAME  FLT_DEP_1  FLT_ARR_1  FLT_TOT_1  FLT_DEP_IFR_2  FLT_ARR_IFR_2  \\\n",
       "0    Belgium          4          3          7            NaN            NaN   \n",
       "1    Belgium        174        171        345          174.0          161.0   \n",
       "2    Belgium         45         47         92           45.0           45.0   \n",
       "3    Belgium          6          7         13            NaN            NaN   \n",
       "4    Belgium          7          7         14            NaN            NaN   \n",
       "\n",
       "   FLT_TOT_IFR_2           Pivot Label  \n",
       "0            NaN        Antwerp (EBAW)  \n",
       "1          335.0       Brussels (EBBR)  \n",
       "2           90.0      Charleroi (EBCI)  \n",
       "3            NaN          Liège (EBLG)  \n",
       "4            NaN  Ostend-Bruges (EBOS)  "
      ]
     },
     "execution_count": 22,
     "metadata": {},
     "output_type": "execute_result"
    }
   ],
   "source": [
    "data.head()"
   ]
  },
  {
   "cell_type": "code",
   "execution_count": 23,
   "id": "d2bdbd5a-e44f-4811-ae6d-3c96a7b3ec22",
   "metadata": {},
   "outputs": [],
   "source": [
    "data = data[['YEAR', 'MONTH_NUM', 'FLT_DATE', 'APT_ICAO', 'APT_NAME', 'FLT_DEP_1', 'FLT_ARR_1', 'FLT_TOT_1']]"
   ]
  },
  {
   "cell_type": "code",
   "execution_count": 24,
   "id": "189681b4-e45c-43ae-b173-e15f3ca059a2",
   "metadata": {},
   "outputs": [],
   "source": [
    "data = data.dropna()"
   ]
  },
  {
   "cell_type": "code",
   "execution_count": 26,
   "id": "389e4ccd-3e3e-4d95-a686-2bbd89f542ad",
   "metadata": {},
   "outputs": [],
   "source": [
    "data = data.rename(columns={\"YEAR\": \"Year\", \"MONTH_NUM\": \"Month\", \"FLT_DATE\": \"Date\", \"APT_ICAO\": \"ICAO\", \"APT_NAME\": \"Airport\", \"FLT_DEP_1\": \"Departure\", \"FLT_ARR_1\": \"Arrival\", \"FLT_TOT_1\": \"Total\"})"
   ]
  },
  {
   "cell_type": "code",
   "execution_count": 28,
   "id": "c3dd26b7-20b8-4e91-b66d-46953de6b436",
   "metadata": {},
   "outputs": [],
   "source": [
    "data.to_csv('preprocessed_data.csv', index=False)"
   ]
  },
  {
   "cell_type": "code",
   "execution_count": null,
   "id": "3f32d69e-501a-4f5a-a8a2-409ce9fa5523",
   "metadata": {},
   "outputs": [],
   "source": []
  }
 ],
 "metadata": {
  "kernelspec": {
   "display_name": "Python 3 (ipykernel)",
   "language": "python",
   "name": "python3"
  },
  "language_info": {
   "codemirror_mode": {
    "name": "ipython",
    "version": 3
   },
   "file_extension": ".py",
   "mimetype": "text/x-python",
   "name": "python",
   "nbconvert_exporter": "python",
   "pygments_lexer": "ipython3",
   "version": "3.10.8"
  }
 },
 "nbformat": 4,
 "nbformat_minor": 5
}
